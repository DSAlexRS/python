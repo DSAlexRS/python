{
  "nbformat": 4,
  "nbformat_minor": 0,
  "metadata": {
    "colab": {
      "provenance": [],
      "authorship_tag": "ABX9TyP/9I+RWjYboJ8rHpuy4dHZ",
      "include_colab_link": true
    },
    "kernelspec": {
      "name": "python3",
      "display_name": "Python 3"
    },
    "language_info": {
      "name": "python"
    }
  },
  "cells": [
    {
      "cell_type": "markdown",
      "metadata": {
        "id": "view-in-github",
        "colab_type": "text"
      },
      "source": [
        "<a href=\"https://colab.research.google.com/github/DSAlexRS/python/blob/master/MLzoomcamp2.ipynb\" target=\"_parent\"><img src=\"https://colab.research.google.com/assets/colab-badge.svg\" alt=\"Open In Colab\"/></a>"
      ]
    },
    {
      "cell_type": "markdown",
      "source": [
        "#looking data\n"
      ],
      "metadata": {
        "id": "HAkoSF7sikLz"
      }
    },
    {
      "cell_type": "code",
      "execution_count": null,
      "metadata": {
        "id": "1vC0jx_JZEpu"
      },
      "outputs": [],
      "source": [
        "import pandas as pd\n",
        "import numpy as np\n",
        "import seaborn as sns\n",
        "import matplotlib.pyplot as plt"
      ]
    },
    {
      "cell_type": "code",
      "source": [
        "df = pd.read_csv(\"https://raw.githubusercontent.com/alexeygrigorev/datasets/master/housing.csv\")"
      ],
      "metadata": {
        "id": "pW-xri9gZWX8"
      },
      "execution_count": null,
      "outputs": []
    },
    {
      "cell_type": "code",
      "source": [
        "df.info()"
      ],
      "metadata": {
        "colab": {
          "base_uri": "https://localhost:8080/"
        },
        "id": "FYq5GMFNhRHD",
        "outputId": "de5e0faf-5ef7-4fbe-93f0-c79054876ef7"
      },
      "execution_count": null,
      "outputs": [
        {
          "output_type": "stream",
          "name": "stdout",
          "text": [
            "<class 'pandas.core.frame.DataFrame'>\n",
            "RangeIndex: 20640 entries, 0 to 20639\n",
            "Data columns (total 10 columns):\n",
            " #   Column              Non-Null Count  Dtype  \n",
            "---  ------              --------------  -----  \n",
            " 0   longitude           20640 non-null  float64\n",
            " 1   latitude            20640 non-null  float64\n",
            " 2   housing_median_age  20640 non-null  float64\n",
            " 3   total_rooms         20640 non-null  float64\n",
            " 4   total_bedrooms      20433 non-null  float64\n",
            " 5   population          20640 non-null  float64\n",
            " 6   households          20640 non-null  float64\n",
            " 7   median_income       20640 non-null  float64\n",
            " 8   median_house_value  20640 non-null  float64\n",
            " 9   ocean_proximity     20640 non-null  object \n",
            "dtypes: float64(9), object(1)\n",
            "memory usage: 1.6+ MB\n"
          ]
        }
      ]
    },
    {
      "cell_type": "code",
      "source": [
        "df.head()"
      ],
      "metadata": {
        "colab": {
          "base_uri": "https://localhost:8080/",
          "height": 270
        },
        "id": "ED_g4mNiiRhj",
        "outputId": "57d5bdca-4b52-412a-8d59-75c2d4e3271b"
      },
      "execution_count": null,
      "outputs": [
        {
          "output_type": "execute_result",
          "data": {
            "text/plain": [
              "   longitude  latitude  housing_median_age  total_rooms  total_bedrooms  \\\n",
              "0    -122.23     37.88                41.0        880.0           129.0   \n",
              "1    -122.22     37.86                21.0       7099.0          1106.0   \n",
              "2    -122.24     37.85                52.0       1467.0           190.0   \n",
              "3    -122.25     37.85                52.0       1274.0           235.0   \n",
              "4    -122.25     37.85                52.0       1627.0           280.0   \n",
              "\n",
              "   population  households  median_income  median_house_value ocean_proximity  \n",
              "0       322.0       126.0         8.3252            452600.0        NEAR BAY  \n",
              "1      2401.0      1138.0         8.3014            358500.0        NEAR BAY  \n",
              "2       496.0       177.0         7.2574            352100.0        NEAR BAY  \n",
              "3       558.0       219.0         5.6431            341300.0        NEAR BAY  \n",
              "4       565.0       259.0         3.8462            342200.0        NEAR BAY  "
            ],
            "text/html": [
              "\n",
              "  <div id=\"df-d2ee9321-c57a-4948-868a-0862b6daadb4\">\n",
              "    <div class=\"colab-df-container\">\n",
              "      <div>\n",
              "<style scoped>\n",
              "    .dataframe tbody tr th:only-of-type {\n",
              "        vertical-align: middle;\n",
              "    }\n",
              "\n",
              "    .dataframe tbody tr th {\n",
              "        vertical-align: top;\n",
              "    }\n",
              "\n",
              "    .dataframe thead th {\n",
              "        text-align: right;\n",
              "    }\n",
              "</style>\n",
              "<table border=\"1\" class=\"dataframe\">\n",
              "  <thead>\n",
              "    <tr style=\"text-align: right;\">\n",
              "      <th></th>\n",
              "      <th>longitude</th>\n",
              "      <th>latitude</th>\n",
              "      <th>housing_median_age</th>\n",
              "      <th>total_rooms</th>\n",
              "      <th>total_bedrooms</th>\n",
              "      <th>population</th>\n",
              "      <th>households</th>\n",
              "      <th>median_income</th>\n",
              "      <th>median_house_value</th>\n",
              "      <th>ocean_proximity</th>\n",
              "    </tr>\n",
              "  </thead>\n",
              "  <tbody>\n",
              "    <tr>\n",
              "      <th>0</th>\n",
              "      <td>-122.23</td>\n",
              "      <td>37.88</td>\n",
              "      <td>41.0</td>\n",
              "      <td>880.0</td>\n",
              "      <td>129.0</td>\n",
              "      <td>322.0</td>\n",
              "      <td>126.0</td>\n",
              "      <td>8.3252</td>\n",
              "      <td>452600.0</td>\n",
              "      <td>NEAR BAY</td>\n",
              "    </tr>\n",
              "    <tr>\n",
              "      <th>1</th>\n",
              "      <td>-122.22</td>\n",
              "      <td>37.86</td>\n",
              "      <td>21.0</td>\n",
              "      <td>7099.0</td>\n",
              "      <td>1106.0</td>\n",
              "      <td>2401.0</td>\n",
              "      <td>1138.0</td>\n",
              "      <td>8.3014</td>\n",
              "      <td>358500.0</td>\n",
              "      <td>NEAR BAY</td>\n",
              "    </tr>\n",
              "    <tr>\n",
              "      <th>2</th>\n",
              "      <td>-122.24</td>\n",
              "      <td>37.85</td>\n",
              "      <td>52.0</td>\n",
              "      <td>1467.0</td>\n",
              "      <td>190.0</td>\n",
              "      <td>496.0</td>\n",
              "      <td>177.0</td>\n",
              "      <td>7.2574</td>\n",
              "      <td>352100.0</td>\n",
              "      <td>NEAR BAY</td>\n",
              "    </tr>\n",
              "    <tr>\n",
              "      <th>3</th>\n",
              "      <td>-122.25</td>\n",
              "      <td>37.85</td>\n",
              "      <td>52.0</td>\n",
              "      <td>1274.0</td>\n",
              "      <td>235.0</td>\n",
              "      <td>558.0</td>\n",
              "      <td>219.0</td>\n",
              "      <td>5.6431</td>\n",
              "      <td>341300.0</td>\n",
              "      <td>NEAR BAY</td>\n",
              "    </tr>\n",
              "    <tr>\n",
              "      <th>4</th>\n",
              "      <td>-122.25</td>\n",
              "      <td>37.85</td>\n",
              "      <td>52.0</td>\n",
              "      <td>1627.0</td>\n",
              "      <td>280.0</td>\n",
              "      <td>565.0</td>\n",
              "      <td>259.0</td>\n",
              "      <td>3.8462</td>\n",
              "      <td>342200.0</td>\n",
              "      <td>NEAR BAY</td>\n",
              "    </tr>\n",
              "  </tbody>\n",
              "</table>\n",
              "</div>\n",
              "      <button class=\"colab-df-convert\" onclick=\"convertToInteractive('df-d2ee9321-c57a-4948-868a-0862b6daadb4')\"\n",
              "              title=\"Convert this dataframe to an interactive table.\"\n",
              "              style=\"display:none;\">\n",
              "        \n",
              "  <svg xmlns=\"http://www.w3.org/2000/svg\" height=\"24px\"viewBox=\"0 0 24 24\"\n",
              "       width=\"24px\">\n",
              "    <path d=\"M0 0h24v24H0V0z\" fill=\"none\"/>\n",
              "    <path d=\"M18.56 5.44l.94 2.06.94-2.06 2.06-.94-2.06-.94-.94-2.06-.94 2.06-2.06.94zm-11 1L8.5 8.5l.94-2.06 2.06-.94-2.06-.94L8.5 2.5l-.94 2.06-2.06.94zm10 10l.94 2.06.94-2.06 2.06-.94-2.06-.94-.94-2.06-.94 2.06-2.06.94z\"/><path d=\"M17.41 7.96l-1.37-1.37c-.4-.4-.92-.59-1.43-.59-.52 0-1.04.2-1.43.59L10.3 9.45l-7.72 7.72c-.78.78-.78 2.05 0 2.83L4 21.41c.39.39.9.59 1.41.59.51 0 1.02-.2 1.41-.59l7.78-7.78 2.81-2.81c.8-.78.8-2.07 0-2.86zM5.41 20L4 18.59l7.72-7.72 1.47 1.35L5.41 20z\"/>\n",
              "  </svg>\n",
              "      </button>\n",
              "      \n",
              "  <style>\n",
              "    .colab-df-container {\n",
              "      display:flex;\n",
              "      flex-wrap:wrap;\n",
              "      gap: 12px;\n",
              "    }\n",
              "\n",
              "    .colab-df-convert {\n",
              "      background-color: #E8F0FE;\n",
              "      border: none;\n",
              "      border-radius: 50%;\n",
              "      cursor: pointer;\n",
              "      display: none;\n",
              "      fill: #1967D2;\n",
              "      height: 32px;\n",
              "      padding: 0 0 0 0;\n",
              "      width: 32px;\n",
              "    }\n",
              "\n",
              "    .colab-df-convert:hover {\n",
              "      background-color: #E2EBFA;\n",
              "      box-shadow: 0px 1px 2px rgba(60, 64, 67, 0.3), 0px 1px 3px 1px rgba(60, 64, 67, 0.15);\n",
              "      fill: #174EA6;\n",
              "    }\n",
              "\n",
              "    [theme=dark] .colab-df-convert {\n",
              "      background-color: #3B4455;\n",
              "      fill: #D2E3FC;\n",
              "    }\n",
              "\n",
              "    [theme=dark] .colab-df-convert:hover {\n",
              "      background-color: #434B5C;\n",
              "      box-shadow: 0px 1px 3px 1px rgba(0, 0, 0, 0.15);\n",
              "      filter: drop-shadow(0px 1px 2px rgba(0, 0, 0, 0.3));\n",
              "      fill: #FFFFFF;\n",
              "    }\n",
              "  </style>\n",
              "\n",
              "      <script>\n",
              "        const buttonEl =\n",
              "          document.querySelector('#df-d2ee9321-c57a-4948-868a-0862b6daadb4 button.colab-df-convert');\n",
              "        buttonEl.style.display =\n",
              "          google.colab.kernel.accessAllowed ? 'block' : 'none';\n",
              "\n",
              "        async function convertToInteractive(key) {\n",
              "          const element = document.querySelector('#df-d2ee9321-c57a-4948-868a-0862b6daadb4');\n",
              "          const dataTable =\n",
              "            await google.colab.kernel.invokeFunction('convertToInteractive',\n",
              "                                                     [key], {});\n",
              "          if (!dataTable) return;\n",
              "\n",
              "          const docLinkHtml = 'Like what you see? Visit the ' +\n",
              "            '<a target=\"_blank\" href=https://colab.research.google.com/notebooks/data_table.ipynb>data table notebook</a>'\n",
              "            + ' to learn more about interactive tables.';\n",
              "          element.innerHTML = '';\n",
              "          dataTable['output_type'] = 'display_data';\n",
              "          await google.colab.output.renderOutput(dataTable, element);\n",
              "          const docLink = document.createElement('div');\n",
              "          docLink.innerHTML = docLinkHtml;\n",
              "          element.appendChild(docLink);\n",
              "        }\n",
              "      </script>\n",
              "    </div>\n",
              "  </div>\n",
              "  "
            ]
          },
          "metadata": {},
          "execution_count": 4
        }
      ]
    },
    {
      "cell_type": "code",
      "source": [
        "df.isnull().sum()"
      ],
      "metadata": {
        "colab": {
          "base_uri": "https://localhost:8080/"
        },
        "id": "_Ge2Ao1YiZmT",
        "outputId": "914dc222-18ef-47ef-d162-a4c03a9804ca"
      },
      "execution_count": null,
      "outputs": [
        {
          "output_type": "execute_result",
          "data": {
            "text/plain": [
              "longitude               0\n",
              "latitude                0\n",
              "housing_median_age      0\n",
              "total_rooms             0\n",
              "total_bedrooms        207\n",
              "population              0\n",
              "households              0\n",
              "median_income           0\n",
              "median_house_value      0\n",
              "ocean_proximity         0\n",
              "dtype: int64"
            ]
          },
          "metadata": {},
          "execution_count": 5
        }
      ]
    },
    {
      "cell_type": "markdown",
      "source": [
        "#EDA"
      ],
      "metadata": {
        "id": "UMIPrwLSiTFj"
      }
    },
    {
      "cell_type": "code",
      "source": [
        "sns.histplot(df[\"median_house_value\"])"
      ],
      "metadata": {
        "colab": {
          "base_uri": "https://localhost:8080/",
          "height": 298
        },
        "id": "7qE5lYCvjNvj",
        "outputId": "9f59655d-5ca8-488e-e18b-cf7c20995269"
      },
      "execution_count": null,
      "outputs": [
        {
          "output_type": "execute_result",
          "data": {
            "text/plain": [
              "<matplotlib.axes._subplots.AxesSubplot at 0x7fe7557f7590>"
            ]
          },
          "metadata": {},
          "execution_count": 8
        },
        {
          "output_type": "display_data",
          "data": {
            "text/plain": [
              "<Figure size 432x288 with 1 Axes>"
            ],
            "image/png": "[encoded data removed]"
          },
          "metadata": {
            "needs_background": "light"
          }
        }
      ]
    },
    {
      "cell_type": "code",
      "source": [
        "df1 =  df.drop(\"ocean_proximity\", axis=1)\n",
        "df1.columns"
      ],
      "metadata": {
        "colab": {
          "base_uri": "https://localhost:8080/"
        },
        "id": "2RJaoFkhjiKD",
        "outputId": "7438b1cc-6748-40b7-935c-7768cc68cec6"
      },
      "execution_count": null,
      "outputs": [
        {
          "output_type": "execute_result",
          "data": {
            "text/plain": [
              "Index(['longitude', 'latitude', 'housing_median_age', 'total_rooms',\n",
              "       'total_bedrooms', 'population', 'households', 'median_income',\n",
              "       'median_house_value'],\n",
              "      dtype='object')"
            ]
          },
          "metadata": {},
          "execution_count": 9
        }
      ]
    },
    {
      "cell_type": "code",
      "source": [
        "a = df1.population.describe()\n",
        "a"
      ],
      "metadata": {
        "colab": {
          "base_uri": "https://localhost:8080/"
        },
        "id": "VY8nKtfElV37",
        "outputId": "e1799009-b585-469a-cf7d-137a170bf122"
      },
      "execution_count": null,
      "outputs": [
        {
          "output_type": "execute_result",
          "data": {
            "text/plain": [
              "count    20640.000000\n",
              "mean      1425.476744\n",
              "std       1132.462122\n",
              "min          3.000000\n",
              "25%        787.000000\n",
              "50%       1166.000000\n",
              "75%       1725.000000\n",
              "max      35682.000000\n",
              "Name: population, dtype: float64"
            ]
          },
          "metadata": {},
          "execution_count": 10
        }
      ]
    },
    {
      "cell_type": "code",
      "source": [
        "a.iloc[5:6][0]"
      ],
      "metadata": {
        "colab": {
          "base_uri": "https://localhost:8080/"
        },
        "id": "AJ4feUIjlmkb",
        "outputId": "46d37ea6-d81e-4abb-9317-d745e5714998"
      },
      "execution_count": null,
      "outputs": [
        {
          "output_type": "execute_result",
          "data": {
            "text/plain": [
              "1166.0"
            ]
          },
          "metadata": {},
          "execution_count": 11
        }
      ]
    },
    {
      "cell_type": "markdown",
      "source": [
        "#splitin data"
      ],
      "metadata": {
        "id": "UXhOS96hnZDz"
      }
    },
    {
      "cell_type": "code",
      "source": [
        "n = len(df1)\n",
        "\n",
        "n_val = int(n * 0.2)\n",
        "n_test = int(n * 0.2)\n",
        "n_train = n - n_val - n_test"
      ],
      "metadata": {
        "id": "z_o9p4-dncR9"
      },
      "execution_count": null,
      "outputs": []
    },
    {
      "cell_type": "code",
      "source": [
        "n, n_val, n_test, n_train"
      ],
      "metadata": {
        "colab": {
          "base_uri": "https://localhost:8080/"
        },
        "id": "IxRxhNWunq6b",
        "outputId": "e1253652-9120-45b0-f230-c8123ee5b719"
      },
      "execution_count": null,
      "outputs": [
        {
          "output_type": "execute_result",
          "data": {
            "text/plain": [
              "(20640, 4128, 4128, 12384)"
            ]
          },
          "metadata": {},
          "execution_count": 43
        }
      ]
    },
    {
      "cell_type": "code",
      "source": [
        "idx = np.arange(n)\n",
        "np.random.seed(42)\n",
        "np.random.shuffle(idx)\n"
      ],
      "metadata": {
        "id": "I5ISRKezn6Lr"
      },
      "execution_count": null,
      "outputs": []
    },
    {
      "cell_type": "code",
      "source": [
        "df_train = df1.iloc[idx[:n_train]]\n",
        "df_val = df1.iloc[idx[n_train:n_train+n_val]]\n",
        "df_test = df1.iloc[idx[n_train+n_val:]]"
      ],
      "metadata": {
        "id": "nJBbtv9WojyM"
      },
      "execution_count": null,
      "outputs": []
    },
    {
      "cell_type": "code",
      "source": [
        "df_train = df_train.reset_index(drop=True)\n",
        "df_val = df_val.reset_index(drop=True)\n",
        "df_test = df_test.reset_index(drop=True)"
      ],
      "metadata": {
        "id": "qPWthWLDpBUp"
      },
      "execution_count": null,
      "outputs": []
    },
    {
      "cell_type": "code",
      "source": [
        "len(df_train), len(df_val), len(df_test)"
      ],
      "metadata": {
        "colab": {
          "base_uri": "https://localhost:8080/"
        },
        "id": "2rWU1y0Op61D",
        "outputId": "01756de8-ecb0-41e5-8507-4f9790ac436b"
      },
      "execution_count": null,
      "outputs": [
        {
          "output_type": "execute_result",
          "data": {
            "text/plain": [
              "(12384, 4128, 4128)"
            ]
          },
          "metadata": {},
          "execution_count": 47
        }
      ]
    },
    {
      "cell_type": "code",
      "source": [
        "y_train = np.log1p(df_train.median_house_value.values)\n",
        "y_val = np.log1p(df_val.median_house_value.values)\n",
        "y_test = np.log1p(df_test.median_house_value.values)"
      ],
      "metadata": {
        "id": "wwWd9UFcpS37"
      },
      "execution_count": null,
      "outputs": []
    },
    {
      "cell_type": "code",
      "source": [
        "len(y_train), len(y_val), len(y_test)"
      ],
      "metadata": {
        "colab": {
          "base_uri": "https://localhost:8080/"
        },
        "id": "w7eu4arvp0fz",
        "outputId": "5b017603-3070-40be-c15d-9e88bc04cb0d"
      },
      "execution_count": null,
      "outputs": [
        {
          "output_type": "execute_result",
          "data": {
            "text/plain": [
              "(12384, 4128, 4128)"
            ]
          },
          "metadata": {},
          "execution_count": 49
        }
      ]
    },
    {
      "cell_type": "code",
      "source": [
        "df_train = df_train.drop(\"median_house_value\", axis= 1)\n",
        "df_val = df_val.drop(\"median_house_value\", axis= 1)\n",
        "df_test = df_test.drop(\"median_house_value\", axis= 1)"
      ],
      "metadata": {
        "id": "X0TcW3sOqArT"
      },
      "execution_count": null,
      "outputs": []
    },
    {
      "cell_type": "code",
      "source": [
        "len(df_train), len(df_val), len(df_test)"
      ],
      "metadata": {
        "colab": {
          "base_uri": "https://localhost:8080/"
        },
        "id": "0EgO3kQqqYFK",
        "outputId": "9f707621-42a4-439e-f21a-b1055ce908ef"
      },
      "execution_count": null,
      "outputs": [
        {
          "output_type": "execute_result",
          "data": {
            "text/plain": [
              "(12384, 4128, 4128)"
            ]
          },
          "metadata": {},
          "execution_count": 51
        }
      ]
    },
    {
      "cell_type": "markdown",
      "source": [
        "#Regresion\n"
      ],
      "metadata": {
        "id": "VAUNzjPEq-xl"
      }
    },
    {
      "cell_type": "code",
      "source": [
        "base = list(df_train.columns)\n"
      ],
      "metadata": {
        "id": "xLtWnrJIpXiN"
      },
      "execution_count": null,
      "outputs": []
    },
    {
      "cell_type": "code",
      "source": [
        "df_train.isnull().sum()"
      ],
      "metadata": {
        "colab": {
          "base_uri": "https://localhost:8080/"
        },
        "id": "iGtPT3BlpztL",
        "outputId": "c74321d3-3ca9-43ed-a672-fac5dbe29ea1"
      },
      "execution_count": null,
      "outputs": [
        {
          "output_type": "execute_result",
          "data": {
            "text/plain": [
              "longitude               0\n",
              "latitude                0\n",
              "housing_median_age      0\n",
              "total_rooms             0\n",
              "total_bedrooms        207\n",
              "population              0\n",
              "households              0\n",
              "median_income           0\n",
              "dtype: int64"
            ]
          },
          "metadata": {},
          "execution_count": 53
        }
      ]
    },
    {
      "cell_type": "code",
      "source": [
        "X_train0 = df_train[base].fillna(0).values"
      ],
      "metadata": {
        "id": "2bK5X0Ivo5B0"
      },
      "execution_count": null,
      "outputs": []
    },
    {
      "cell_type": "code",
      "source": [
        "X_trainM = df_train\n",
        "X_trainM[\"total_bedrooms\"] = X_trainM[\"total_bedrooms\"].fillna(X_trainM[\"total_bedrooms\"].mean())\n",
        "X_trainM = X_trainM.values"
      ],
      "metadata": {
        "id": "E04NHQL6po46"
      },
      "execution_count": null,
      "outputs": []
    },
    {
      "cell_type": "code",
      "source": [
        "X_train0 "
      ],
      "metadata": {
        "colab": {
          "base_uri": "https://localhost:8080/"
        },
        "id": "KqskYfM8rbqT",
        "outputId": "7a6ed56c-0e5d-41a7-fe8f-20cea2d2365d"
      },
      "execution_count": null,
      "outputs": [
        {
          "output_type": "execute_result",
          "data": {
            "text/plain": [
              "array([[-1.1901e+02,  3.6060e+01,  2.5000e+01, ...,  1.3920e+03,\n",
              "         3.5900e+02,  1.6812e+00],\n",
              "       [-1.1946e+02,  3.5140e+01,  3.0000e+01, ...,  1.5650e+03,\n",
              "         5.8400e+02,  2.5313e+00],\n",
              "       [-1.2244e+02,  3.7800e+01,  5.2000e+01, ...,  1.3100e+03,\n",
              "         9.6300e+02,  3.4801e+00],\n",
              "       ...,\n",
              "       [-1.2091e+02,  3.8980e+01,  1.3000e+01, ...,  3.2640e+03,\n",
              "         1.1980e+03,  3.6530e+00],\n",
              "       [-1.1772e+02,  3.4090e+01,  3.6000e+01, ...,  7.8500e+02,\n",
              "         2.9900e+02,  3.2566e+00],\n",
              "       [-1.2247e+02,  3.7760e+01,  3.4000e+01, ...,  1.1520e+03,\n",
              "         4.4500e+02,  5.1893e+00]])"
            ]
          },
          "metadata": {},
          "execution_count": 56
        }
      ]
    },
    {
      "cell_type": "code",
      "source": [
        "def train_linear_regression(X, y):\n",
        "    ones = np.ones(X.shape[0])\n",
        "    X = np.column_stack([ones, X])\n",
        "\n",
        "    XTX = X.T.dot(X)\n",
        "    XTX_inv = np.linalg.inv(XTX)\n",
        "    w_full = XTX_inv.dot(X.T).dot(y)\n",
        "    \n",
        "    return w_full[0], w_full[1:]"
      ],
      "metadata": {
        "id": "Gd-m8iM_q95i"
      },
      "execution_count": null,
      "outputs": []
    },
    {
      "cell_type": "code",
      "source": [
        "w0_0, w_0 = train_linear_regression(X_train0, y_train)\n",
        "\n",
        "y_pred_0 = w0_0 + X_train0.dot(w_0)"
      ],
      "metadata": {
        "id": "dHA5CnCJrIfL"
      },
      "execution_count": null,
      "outputs": []
    },
    {
      "cell_type": "code",
      "source": [
        "y_pred_0"
      ],
      "metadata": {
        "colab": {
          "base_uri": "https://localhost:8080/"
        },
        "id": "Ap8dCRXkr_Fi",
        "outputId": "7964e4c9-48f1-43f5-8032-86767e2b0b1c"
      },
      "execution_count": null,
      "outputs": [
        {
          "output_type": "execute_result",
          "data": {
            "text/plain": [
              "array([11.28055213, 11.90427911, 12.46507934, ..., 11.53259294,\n",
              "       11.92377088, 12.54517195])"
            ]
          },
          "metadata": {},
          "execution_count": 60
        }
      ]
    },
    {
      "cell_type": "code",
      "source": [
        "sns.histplot(y_pred_0, color='red', alpha=0.5, bins=50)\n",
        "sns.histplot(y_train, color='blue', alpha=0.5, bins=50)"
      ],
      "metadata": {
        "colab": {
          "base_uri": "https://localhost:8080/",
          "height": 283
        },
        "id": "FHlBhvqAsjBE",
        "outputId": "ef92322c-15e8-4e53-d16e-285981c637cc"
      },
      "execution_count": null,
      "outputs": [
        {
          "output_type": "execute_result",
          "data": {
            "text/plain": [
              "<matplotlib.axes._subplots.AxesSubplot at 0x7fe752103250>"
            ]
          },
          "metadata": {},
          "execution_count": 62
        },
        {
          "output_type": "display_data",
          "data": {
            "text/plain": [
              "<Figure size 432x288 with 1 Axes>"
            ],
            "image/png": "[encoded data removed]"
          },
          "metadata": {
            "needs_background": "light"
          }
        }
      ]
    },
    {
      "cell_type": "code",
      "source": [
        "def rmse(y, y_pred):\n",
        "    se = (y - y_pred) ** 2\n",
        "    mse = se.mean()\n",
        "    return np.sqrt(mse)"
      ],
      "metadata": {
        "id": "2qNzrNkksqvq"
      },
      "execution_count": null,
      "outputs": []
    },
    {
      "cell_type": "code",
      "source": [
        "round(rmse(y_train, y_pred_0),2)"
      ],
      "metadata": {
        "colab": {
          "base_uri": "https://localhost:8080/"
        },
        "id": "atSvXonosv86",
        "outputId": "842e1007-2c30-4749-cf60-a2c073103825"
      },
      "execution_count": null,
      "outputs": [
        {
          "output_type": "execute_result",
          "data": {
            "text/plain": [
              "0.34"
            ]
          },
          "metadata": {},
          "execution_count": 72
        }
      ]
    },
    {
      "cell_type": "code",
      "source": [
        "w0_M, w_M = train_linear_regression(X_trainM, y_train)\n",
        "\n",
        "y_pred_M = w0_M + X_trainM.dot(w_M)"
      ],
      "metadata": {
        "id": "BWlg85FKs1jq"
      },
      "execution_count": null,
      "outputs": []
    },
    {
      "cell_type": "code",
      "source": [
        "sns.histplot(y_pred_M, color='red', alpha=0.5, bins=50)\n",
        "sns.histplot(y_train, color='blue', alpha=0.5, bins=50)"
      ],
      "metadata": {
        "colab": {
          "base_uri": "https://localhost:8080/",
          "height": 283
        },
        "id": "GCsHEoKVtB96",
        "outputId": "432ec017-96dc-4c6d-8629-dcbbeee32a0e"
      },
      "execution_count": null,
      "outputs": [
        {
          "output_type": "execute_result",
          "data": {
            "text/plain": [
              "<matplotlib.axes._subplots.AxesSubplot at 0x7fe74f456290>"
            ]
          },
          "metadata": {},
          "execution_count": 69
        },
        {
          "output_type": "display_data",
          "data": {
            "text/plain": [
              "<Figure size 432x288 with 1 Axes>"
            ],
            "image/png": "[encoded data removed]"
          },
          "metadata": {
            "needs_background": "light"
          }
        }
      ]
    },
    {
      "cell_type": "code",
      "source": [
        "round(rmse(y_train, y_pred_M),2)"
      ],
      "metadata": {
        "colab": {
          "base_uri": "https://localhost:8080/"
        },
        "id": "dhcVixZltOwK",
        "outputId": "7bde3c3d-05d1-49e3-d1dc-3d3e74a0304c"
      },
      "execution_count": null,
      "outputs": [
        {
          "output_type": "execute_result",
          "data": {
            "text/plain": [
              "0.34"
            ]
          },
          "metadata": {},
          "execution_count": 71
        }
      ]
    },
    {
      "cell_type": "markdown",
      "source": [
        "# Regularized linear regression\n",
        "\n"
      ],
      "metadata": {
        "id": "VAcjjaJ3uAl6"
      }
    },
    {
      "cell_type": "code",
      "source": [
        "def prepare_X(df):\n",
        "    df_num = df[base]\n",
        "    df_num = df_num.fillna(0)\n",
        "    X = df_num.values\n",
        "    return X"
      ],
      "metadata": {
        "id": "bCexSjbXviaZ"
      },
      "execution_count": null,
      "outputs": []
    },
    {
      "cell_type": "code",
      "source": [
        "def train_linear_regression_reg(X, y, r=0.001):\n",
        "    ones = np.ones(X.shape[0])\n",
        "    X = np.column_stack([ones, X])\n",
        "\n",
        "    XTX = X.T.dot(X)\n",
        "    XTX = XTX + r * np.eye(XTX.shape[0])\n",
        "\n",
        "    XTX_inv = np.linalg.inv(XTX)\n",
        "    w_full = XTX_inv.dot(X.T).dot(y)\n",
        "    \n",
        "    return w_full[0], w_full[1:]"
      ],
      "metadata": {
        "id": "z0RfnGd5uLEy"
      },
      "execution_count": null,
      "outputs": []
    },
    {
      "cell_type": "code",
      "source": [
        "for r in [0.0, 0.00001, 0.0001, 0.001, 0.1, 1, 10]:\n",
        "    X_train = prepare_X(df_train)\n",
        "    w0, w = train_linear_regression_reg(X_train, y_train, r=r)\n",
        "\n",
        "    X_val = prepare_X(df_val)\n",
        "    y_pred = w0 + X_val.dot(w)\n",
        "    score = rmse(y_val, y_pred)\n",
        "    \n",
        "    print(r, w0, round(score,8))"
      ],
      "metadata": {
        "colab": {
          "base_uri": "https://localhost:8080/"
        },
        "id": "KvzIgrm9vN5k",
        "outputId": "b1508017-752c-4440-ab81-c11e0fa7e6b9"
      },
      "execution_count": null,
      "outputs": [
        {
          "output_type": "stream",
          "name": "stdout",
          "text": [
            "0.0 -11.759590872680436 0.32901954\n",
            "1e-05 -11.759428950174058 0.32901954\n",
            "0.0001 -11.757971849086523 0.32901953\n",
            "0.001 -11.743420667265212 0.32901939\n",
            "0.1 -10.336279128505433 0.32919971\n",
            "1 -4.946335110656922 0.33340342\n",
            "10 -0.7936332757652793 0.34033331\n"
          ]
        }
      ]
    },
    {
      "cell_type": "markdown",
      "source": [
        "#random seed"
      ],
      "metadata": {
        "id": "NFiZ1xbbym6x"
      }
    },
    {
      "cell_type": "code",
      "source": [
        "def split(df, seed):\n",
        "  np.random.seed(seed)\n",
        "  np.random.shuffle(idx)\n",
        "  df_train = df.iloc[idx[:n_train]]\n",
        "  df_val = df.iloc[idx[n_train:n_train+n_val]]\n",
        "  df_test = df.iloc[idx[n_train+n_val:]]\n",
        "  df_train = df_train.reset_index(drop=True)\n",
        "  df_val = df_val.reset_index(drop=True)\n",
        "  df_test = df_test.reset_index(drop=True)\n",
        "  y_train = np.log1p(df_train.median_house_value.values)\n",
        "  y_val = np.log1p(df_val.median_house_value.values)\n",
        "  y_test = np.log1p(df_test.median_house_value.values)\n",
        "  df_train = df_train.drop(\"median_house_value\", axis= 1)\n",
        "  df_val = df_val.drop(\"median_house_value\", axis= 1)\n",
        "  df_test = df_test.drop(\"median_house_value\", axis= 1)\n",
        "  return df_train, y_train, df_val, y_val"
      ],
      "metadata": {
        "id": "8Lk2kuJO2RiS"
      },
      "execution_count": null,
      "outputs": []
    },
    {
      "cell_type": "code",
      "source": [
        "score = []\n",
        "def save(df_train, y_train, df_val, y_val): \n",
        "  X_train = prepare_X(df_train)\n",
        "  w0, w = train_linear_regression(X_train, y_train)\n",
        "  X_val = prepare_X(df_val)\n",
        "  y_pred = w0 + X_val.dot(w)\n",
        "  rmse1 = rmse(y_val, y_pred)\n",
        "  return rmse1"
      ],
      "metadata": {
        "id": "GZfkUozzywzZ"
      },
      "execution_count": null,
      "outputs": []
    },
    {
      "cell_type": "code",
      "source": [
        "score = []\n",
        "seeds = [0, 1, 2, 3, 4, 5, 6, 7, 8, 9]\n",
        "for seed in seeds:\n",
        "  df_train, y_train, df_val, y_val = split(df1, seed)\n",
        "  scoreS = save(df_train, y_train, df_val, y_val)\n",
        "  score.append(scoreS)"
      ],
      "metadata": {
        "id": "IAhhAik81WAx"
      },
      "execution_count": null,
      "outputs": []
    },
    {
      "cell_type": "code",
      "source": [
        "score"
      ],
      "metadata": {
        "colab": {
          "base_uri": "https://localhost:8080/"
        },
        "id": "8WZaceG65Q2Z",
        "outputId": "cda7514d-e309-4855-b958-1a67c435d294"
      },
      "execution_count": null,
      "outputs": [
        {
          "output_type": "execute_result",
          "data": {
            "text/plain": [
              "[0.3356488966190346,\n",
              " 0.3393890110368421,\n",
              " 0.34226192111904696,\n",
              " 0.34414004687756117,\n",
              " 0.3409237458492552,\n",
              " 0.33527577109471807,\n",
              " 0.34214414642061103,\n",
              " 0.3394619924655678,\n",
              " 0.34505590289393284,\n",
              " 0.3459972686128678]"
            ]
          },
          "metadata": {},
          "execution_count": 108
        }
      ]
    },
    {
      "cell_type": "code",
      "source": [
        "round(np.std(score),5)"
      ],
      "metadata": {
        "colab": {
          "base_uri": "https://localhost:8080/"
        },
        "id": "EVIir1ha01X5",
        "outputId": "e7686a97-8625-4d64-90cc-49929fd79021"
      },
      "execution_count": null,
      "outputs": [
        {
          "output_type": "execute_result",
          "data": {
            "text/plain": [
              "0.00347"
            ]
          },
          "metadata": {},
          "execution_count": 111
        }
      ]
    },
    {
      "cell_type": "markdown",
      "source": [
        "#final"
      ],
      "metadata": {
        "id": "rXF7T3R69wMh"
      }
    },
    {
      "cell_type": "code",
      "source": [
        "n = len(df1)\n",
        "\n",
        "n_val = int(n * 0.2)\n",
        "n_test = int(n * 0)\n",
        "n_train = n - n_val - n_test\n",
        "idx = np.arange(n)\n",
        "df_trainF, y_trainF, df_valF, y_valF = split(df1,9)"
      ],
      "metadata": {
        "id": "lWq2uw6u9ySX"
      },
      "execution_count": null,
      "outputs": []
    },
    {
      "cell_type": "code",
      "source": [
        "X_trainF = prepare_X(df_trainF)\n",
        "w0, w = train_linear_regression_reg(X_trainF, y_trainF, r=0.001)\n",
        "X_valF = prepare_X(df_val)\n",
        "y_pred = w0 + X_valF.dot(w)\n",
        "score = rmse(y_val, y_pred)"
      ],
      "metadata": {
        "id": "xWZzmbb0-Htl"
      },
      "execution_count": null,
      "outputs": []
    },
    {
      "cell_type": "code",
      "source": [
        "score"
      ],
      "metadata": {
        "colab": {
          "base_uri": "https://localhost:8080/"
        },
        "id": "eY8yHzdp_Mbo",
        "outputId": "a2926054-cc22-4b6d-8067-cbb7dd2fe438"
      },
      "execution_count": null,
      "outputs": [
        {
          "output_type": "execute_result",
          "data": {
            "text/plain": [
              "0.34596664836517943"
            ]
          },
          "metadata": {},
          "execution_count": 126
        }
      ]
    },
    {
      "cell_type": "markdown",
      "source": [
        "#Answers\n",
        "Q1. 207 \n",
        "Q2. 1166\n",
        "Q3. Both are equally good\n",
        "Q4. 0.001 \n",
        "Q5. 0.003\n",
        "Q6. 0.35"
      ],
      "metadata": {
        "id": "la8VHlU1lQXF"
      }
    }
  ]
}
